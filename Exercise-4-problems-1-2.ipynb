{
 "cells": [
  {
   "cell_type": "markdown",
   "metadata": {
    "deletable": false,
    "editable": false,
    "nbgrader": {
     "cell_type": "markdown",
     "checksum": "32a49d9a7377898bbd9cec118fe3522f",
     "grade": false,
     "grade_id": "cell-2c5cef7d6fa0786b",
     "locked": true,
     "schema_version": 3,
     "solution": false
    }
   },
   "source": [
    "# Problem 1 - Introduction to river profile evolution (*3 points*)\n",
    "\n",
    "For this exercise we will be using some Python code to plot river profiles.\n",
    "The code performs many of the basic calculations needed to answer the questions below, but you will need add a few functions and make some changes to complete the exercise.\n",
    "\n",
    "**Notice**: Closely follow the instructions! For example, you should be sure to use **exactly** the same variable names mentioned in the instructions because your answers will be automatically graded, and the tests that grade your answers rely on following the same formatting or variable naming as in the instructions.\n",
    "\n",
    "**Your score on this problem will be based on following criteria**:\n",
    "\n",
    "- Creating a Python function for calculating drainage area\n",
    "- Creating a Python function for the stream-power erosion equation\n",
    "- Answering a few questions about these functions and others defined in this problem\n",
    "- Including comments that explain what most lines in the code do\n",
    "- Uploading your notebook to your GitHub repository for this week's exercise"
   ]
  },
  {
   "cell_type": "markdown",
   "metadata": {
    "deletable": false,
    "editable": false,
    "nbgrader": {
     "cell_type": "markdown",
     "checksum": "a33f0ead8f98d3197473c244fcee83e1",
     "grade": false,
     "grade_id": "cell-6c981ee40c5ad602",
     "locked": true,
     "schema_version": 3,
     "solution": false
    }
   },
   "source": [
    "## Part 1: Getting started, finding the drainage area (*1 point*)\n",
    "\n",
    "We will be working with river profiles in this exercise, which show the elevation of a river channel along its length.\n",
    "However, the stream-power erosion law relies on estimating the amount of water in the river (i.e., its discharge) using the area upstream of any given point.\n",
    "Thus, your first task in this problem is to create a function that can be used to approximate the change in upstream area in a river basin as you move down stream.\n",
    "\n",
    "We can approximate the area $A$ upstream of any point using\n",
    "\n",
    "\\begin{equation}\n",
    "  \\Large\n",
    "  A = k_{a} x^{h_{a}}\n",
    "\\end{equation}\n",
    "\n",
    "where $k_{a}$ is a distance/area scaling coefficient with units of m$^{1/3}$ and $h_{a}$ is a scaling exponent.\n",
    "Typical values of $k_{a}$ and $h_{a}$ are 6.69 and 1.69, respectively.\n",
    "\n",
    "- Run the two Python cells below to get the plotting set.\n",
    "- Create a function `drainage_area` that can be used to estimate the upstream drainage area for a river profile of length $x$.\n",
    "    - Your function should calculate the area (which you could call `area`) using the equation above.\n",
    "    - The first value of `area` should not be 0.0, but rather you can manually set it to be half of the second value in `area`.\n",
    "    - Your function should return the area array (called `area` if you follow the example name above)."
   ]
  },
  {
   "cell_type": "code",
   "execution_count": null,
   "metadata": {
    "deletable": false,
    "editable": false,
    "nbgrader": {
     "cell_type": "code",
     "checksum": "90e81672e768e2a311c0563021cbaab7",
     "grade": false,
     "grade_id": "cell-e9f94290f07c726e",
     "locked": true,
     "schema_version": 3,
     "solution": false
    }
   },
   "outputs": [],
   "source": [
    "# Import NumPy, Matplotlib and the Matplotlib animation modules\n",
    "import numpy as np\n",
    "import pandas as pd\n",
    "import pandas_bokeh"
   ]
  },
  {
   "cell_type": "code",
   "execution_count": null,
   "metadata": {
    "deletable": false,
    "editable": false,
    "nbgrader": {
     "cell_type": "code",
     "checksum": "7578f805209a20cb6545cda489e49cb1",
     "grade": false,
     "grade_id": "cell-9d4582bb0d35ccec",
     "locked": true,
     "schema_version": 3,
     "solution": false
    }
   },
   "outputs": [],
   "source": [
    "# Enable interactive plotting/animations\n",
    "%matplotlib inline\n",
    "\n",
    "# Use Pandas-Bokeh for plotting\n",
    "pandas_bokeh.output_notebook()\n",
    "pd.set_option('plotting.backend', 'pandas_bokeh')"
   ]
  },
  {
   "cell_type": "code",
   "execution_count": null,
   "metadata": {
    "deletable": false,
    "nbgrader": {
     "cell_type": "code",
     "checksum": "881ef23fa32460996f4ab121939046e0",
     "grade": false,
     "grade_id": "problem_1_ag_p1_drainage_area",
     "locked": false,
     "schema_version": 3,
     "solution": true
    }
   },
   "outputs": [],
   "source": [
    "def drainage_area(x, ka=6.69, ha=1.69):\n",
    "    \"\"\"Calculate estimated drainage area upstream.\n",
    "    \n",
    "    Keyword arguments:\n",
    "    x -- an array of distances along the river profile\n",
    "    ka -- distance/area scaling coefficient (units: m**0.33; default: 6.69)\n",
    "    ha -- scaling exponent (default: 1.69)\n",
    "    \"\"\"\n",
    "# YOUR CODE HERE\n",
    "raise NotImplementedError()"
   ]
  },
  {
   "cell_type": "code",
   "execution_count": null,
   "metadata": {
    "deletable": false,
    "editable": false,
    "nbgrader": {
     "cell_type": "code",
     "checksum": "e7d842a7244a2bcd25dd1af5c1ceca15",
     "grade": true,
     "grade_id": "problem_1_ag_p1_drainage_area_test1",
     "locked": true,
     "points": 0.5,
     "schema_version": 3,
     "solution": false
    }
   },
   "outputs": [],
   "source": [
    "# The visible tests below should work\n",
    "from nose.tools import assert_equal\n",
    "\n",
    "# Fake data\n",
    "x = np.linspace(0.0, 20.0, 51)\n",
    "area1 = drainage_area(x)\n",
    "\n",
    "# Print results\n",
    "print ('Drainage area at index 3 should be 9.1042. My drainage area is {0:.4f}.'.format(area1[3]))\n",
    "\n",
    "# Check that the area at index 0 is half that at index 1\n",
    "assert_equal(round(area1[0], 4), round(area1[1]/2.0, 4))\n",
    "\n",
    "# Check some random values\n",
    "assert_equal(round(area1[5], 4), 21.5857)\n",
    "assert_equal(round(area1[-1], 4), 1057.2235)"
   ]
  },
  {
   "cell_type": "code",
   "execution_count": null,
   "metadata": {
    "deletable": false,
    "editable": false,
    "nbgrader": {
     "cell_type": "code",
     "checksum": "012759bdad25dfd612dd143705fed399",
     "grade": true,
     "grade_id": "problem_1_ag_p1_drainage_area_test2",
     "locked": true,
     "points": 0.5,
     "schema_version": 3,
     "solution": false
    }
   },
   "outputs": [],
   "source": [
    "# The visible tests below should work\n",
    "\n",
    "# Fake data\n",
    "area2 = drainage_area(x, ka=5.0, ha=2.0)\n",
    "\n",
    "# Print results\n",
    "print ('Drainage area at index 3 should now be 7.2000. My drainage area is {0:.4f}.'.format(area2[3]))\n",
    "\n",
    "# Check that the area at index 0 is half that at index 1\n",
    "assert_equal(round(area2[0], 4), round(area2[1]/2.0, 4))\n",
    "\n",
    "# Check some random values\n",
    "assert_equal(round(area2[25], 4), 500.0)\n",
    "assert_equal(round(area2[45], 4), 1620.0)"
   ]
  },
  {
   "cell_type": "markdown",
   "metadata": {
    "deletable": false,
    "editable": false,
    "nbgrader": {
     "cell_type": "markdown",
     "checksum": "ffcbf70e1ef418a6c8e0c4f283d7ffdb",
     "grade": false,
     "grade_id": "cell-97fc7dfe88e87d3f",
     "locked": true,
     "schema_version": 3,
     "solution": false
    }
   },
   "source": [
    "## Part 2: Defining a stream-power erosion function (*1 point*)\n",
    "\n",
    "The next task in this problem is to define a function that can be used to calculate the stream-power erosion rate along the length of the river profile.\n",
    "As a reminder, the stream-power erosion law has the form\n",
    "\n",
    "\\begin{equation}\n",
    "  \\Large\n",
    "  \\frac{dh}{dt} = K A^{m} S^{n}\n",
    "\\end{equation}\n",
    "\n",
    "where $h$ is the elevation of the river channel, $t$ is time, $K$ is an erosional efficiency factor (accounts for lithology, climate, channel geometry, sediment supply, etc. (!)), $A$ is upstream drainage area, $S$ is channel slope, and $m$ and $n$ are the area and slope exponents.\n",
    "\n",
    "- Create a function `calculate_dhdt` that calculates the rate of erosion along the length of the river profile using the stream-power erosion law.\n",
    "    - **Note**: The value you calculate for $dh/dt$ should be negative as we'll apply it to lower the surface elevations.\n",
    "- To calculate the stream-power erosion rate, you will first need to calculate the channel slope along the river profile. Take a shot at this, and have a look at [the hints for this week's exercise](https://introqg.github.io/site/lessons/L4/exercise-4.html) if you are having trouble.\n",
    "- Once you have the slope, you can calculate the erosion rate $dh/dt$ using the equation above and return that value from your function"
   ]
  },
  {
   "cell_type": "code",
   "execution_count": null,
   "metadata": {
    "deletable": false,
    "nbgrader": {
     "cell_type": "code",
     "checksum": "10ea1e7114da22a39ec6906259106794",
     "grade": false,
     "grade_id": "problem_1_ag_p2_dhdt",
     "locked": false,
     "schema_version": 3,
     "solution": true
    }
   },
   "outputs": [],
   "source": [
    "def calculate_dhdt(elevation, dx, area, K=1.6E-8, m=1.0, n=2.0):\n",
    "    \"\"\"Calculate estimated drainage area upstream.\n",
    "    \n",
    "    Keyword arguments:\n",
    "    elevation -- array of elevations along the river profile\n",
    "    dx -- spacing between points along the river profile\n",
    "    area -- upstream drainage area\n",
    "    K -- fluvial erosional efficiency factor (units: m**0.33 / a; default: 1.6E-8)\n",
    "    m -- stream power area exponent (default: 1.0)\n",
    "    n -- stream power slope exponent (default: 2.0)\n",
    "    \"\"\"\n",
    "# YOUR CODE HERE\n",
    "raise NotImplementedError()"
   ]
  },
  {
   "cell_type": "code",
   "execution_count": null,
   "metadata": {
    "deletable": false,
    "editable": false,
    "nbgrader": {
     "cell_type": "code",
     "checksum": "aaaa461fcb14b35c16cb10e6c270a7a7",
     "grade": true,
     "grade_id": "problem_1_ag_p2_dhdt_test1",
     "locked": true,
     "points": 0.5,
     "schema_version": 3,
     "solution": false
    }
   },
   "outputs": [],
   "source": [
    "# The visible tests below should work\n",
    "from nose.tools import assert_equal\n",
    "\n",
    "# Fake data\n",
    "x1 = np.linspace(0.0, 10000.0, 101)\n",
    "dx1 = x1[1]-x1[0]\n",
    "topo1 = np.linspace(100.0, 0.0, len(x1))\n",
    "area1 = drainage_area(x1)\n",
    "dhdt1 = calculate_dhdt(topo1, dx1, area1)\n",
    "\n",
    "# Print results\n",
    "print ('dhdt at index 75 should be -0.000038. My dhdt is {0:.6f}.'.format(dhdt1[75]))\n",
    "\n",
    "# Check max dhdt is 0.0\n",
    "assert_equal(round(dhdt1.max(), 2), 0.00)\n",
    "\n",
    "# Check some random values\n",
    "assert_equal(round(dhdt1[50], 6), -1.9e-05)\n",
    "assert_equal(round(dhdt1[-1], 6), -6.2e-05)"
   ]
  },
  {
   "cell_type": "code",
   "execution_count": null,
   "metadata": {
    "deletable": false,
    "editable": false,
    "nbgrader": {
     "cell_type": "code",
     "checksum": "8bd7c08b97d889f65d6f0b46326fb702",
     "grade": true,
     "grade_id": "problem_1_ag_p2_dhdt_test2",
     "locked": true,
     "points": 0.5,
     "schema_version": 3,
     "solution": false
    }
   },
   "outputs": [],
   "source": [
    "# The visible tests below should work\n",
    "\n",
    "# Fake data\n",
    "dhdt2 = calculate_dhdt(topo1, dx1, area1, K=1.E-8, m=1.0, n=1.0)\n",
    "\n",
    "# Print results\n",
    "print ('dhdt at index 75 should now be -0.002367. My dhdt is {0:.6f}.'.format(dhdt2[75]))\n",
    "\n",
    "# Check max dhdt is 0.0\n",
    "assert_equal(round(dhdt2.max(), 2), 0.00)\n",
    "\n",
    "# Check some random values\n",
    "assert_equal(round(dhdt2[25], 6), -0.00037)\n",
    "assert_equal(round(dhdt2[85], 6), -0.002925)"
   ]
  },
  {
   "cell_type": "markdown",
   "metadata": {
    "deletable": false,
    "editable": false,
    "nbgrader": {
     "cell_type": "markdown",
     "checksum": "091151748fe9bf1014c3dca0bd9872a0",
     "grade": false,
     "grade_id": "cell-f42ca1b69760933a",
     "locked": true,
     "schema_version": 3,
     "solution": false
    }
   },
   "source": [
    "## Part 3: Putting the pieces together (*0 points*)\n",
    "\n",
    "At this point we have one of the main components for calculating the evolution of a river profile subject to stream-power erosion, the stream-power erosion function `calculate_dhdt`.\n",
    "While you could go through the process of creating a number of other functions and code to handle the rest of this problem, we'll instead provide that code below.\n",
    "Unfortunately, this is a slightly more involved programming exercise, so we'll go through a few other functions so that you get a sense of how the code works before you start using it.\n",
    "\n",
    "**We strongly advise you to take the time to look through this code, rather than just running the Python cells below**. You'll be asked to modify some of this code for the other parts of the problem below."
   ]
  },
  {
   "cell_type": "markdown",
   "metadata": {
    "deletable": false,
    "editable": false,
    "nbgrader": {
     "cell_type": "markdown",
     "checksum": "d9ed1d78a7b5cdab985213de4f812dc6",
     "grade": false,
     "grade_id": "cell-97baa2ea1530dfe8a",
     "locked": true,
     "schema_version": 3,
     "solution": false
    }
   },
   "source": [
    "### Defining the profile length\n",
    "\n",
    "The function below (`create_x`) is used to define the initial length of the river profile. Review the function and check to see that you understand what it does.\n",
    "\n",
    "- Review the code in the `create_x` function below to try to understand how it works\n",
    "- Run the Python cell below"
   ]
  },
  {
   "cell_type": "code",
   "execution_count": null,
   "metadata": {
    "deletable": false,
    "editable": false,
    "nbgrader": {
     "cell_type": "code",
     "checksum": "ed4974a29324d3dae5ccb21cf9eab1af",
     "grade": false,
     "grade_id": "cell-ce2711a9c1b7d019",
     "locked": true,
     "schema_version": 3,
     "solution": false,
     "task": false
    }
   },
   "outputs": [],
   "source": [
    "def create_x(profile_length, dx):\n",
    "    \"\"\"Defines the initial river profile length.\n",
    "    \n",
    "    Keyword arguments:\n",
    "    profile_length -- the length of the river profile\n",
    "    dx -- the spacing between points along the river profile (units: m)\n",
    "    \"\"\"\n",
    "    x_points = int(profile_length/dx) + 1               # Number of points for x array\n",
    "    return np.linspace(0.0, profile_length, x_points)   # Return array from 0 to L by dx"
   ]
  },
  {
   "cell_type": "markdown",
   "metadata": {
    "deletable": false,
    "editable": false,
    "nbgrader": {
     "cell_type": "markdown",
     "checksum": "94b248a18c595e29ff210bfd252e367f",
     "grade": false,
     "grade_id": "cell-97baa2ea1530dfe8",
     "locked": true,
     "schema_version": 3,
     "solution": false
    }
   },
   "source": [
    "### Defining the initial profile elevations\n",
    "\n",
    "The function below (`create_profile`) is used to define the initial elevations along the river profile. Review the function and see whether you can understand how the 3 different topography shapes are defined, and how they differ.\n",
    "\n",
    "- Review the code in the `create_profile` function below to try to understand how it works\n",
    "- Run the Python cell below"
   ]
  },
  {
   "cell_type": "code",
   "execution_count": null,
   "metadata": {
    "deletable": false,
    "editable": false,
    "nbgrader": {
     "cell_type": "code",
     "checksum": "76b6dee46a051520cbc4b65f397781b7",
     "grade": false,
     "grade_id": "cell-8b84baff4647d92c",
     "locked": true,
     "schema_version": 3,
     "solution": false
    }
   },
   "outputs": [],
   "source": [
    "def create_profile(topo_option, x, min_elevation=0.0, max_elevation=1500.0):\n",
    "    \"\"\"Define the initial river profile elevations.\n",
    "    \n",
    "    Keyword arguments:\n",
    "    topo_option -- the option for the initial river profile geometry (1-3)\n",
    "    x -- array of distance along the river profile (units: m)\n",
    "    min_elevation -- minimum profile elevation (units: m; default: 0.0)\n",
    "    max_elevation -- maximum profile elevation (units: m; default: 0.0)\n",
    "    \"\"\"\n",
    "    if topo_option == 1:               # \"Flat\" profile at 1 m elevation\n",
    "        elevation = np.ones(x.size)\n",
    "        elevation[-1] = 0.0\n",
    "    elif topo_option == 2:             # \"Plateau\" profile at max_elevation\n",
    "        elevation = np.zeros(x.size) + max_elevation\n",
    "        elevation[-1] = min_elevation\n",
    "    elif topo_option == 3:             # Sloping profile\n",
    "        elevation = np.linspace(max_elevation, min_elevation, x.size)\n",
    "    else:                              # Stop with error message if given a bad value\n",
    "        print(\"Bad value listed for topo_option. It must be '1', '2', or '3'. Exiting...\")\n",
    "        exit()\n",
    "    return elevation"
   ]
  },
  {
   "cell_type": "markdown",
   "metadata": {
    "deletable": false,
    "editable": false,
    "nbgrader": {
     "cell_type": "markdown",
     "checksum": "0e2b28ac7fa63c8cdcc32df033c93b9e",
     "grade": false,
     "grade_id": "cell-e85f97ef3ca1b5c4",
     "locked": true,
     "schema_version": 3,
     "solution": false
    }
   },
   "source": [
    "### Putting it all together\n",
    "\n",
    "The function below (`stream_power`) combines the functions above to calculate a river profile and plot the resulting geometry as it evolves over time. In addition to using the functions above, it also defines some of the arrays used in the calculations and creates the plots. This is slightly more complicated than the earlier function examples, but we think you should be able to read over the code and comments to get a sense of how all of the code pieces fit together.\n",
    "\n",
    "- Review the code in the `stream_power` function below to try to understand how it works\n",
    "- Run the Python cell below"
   ]
  },
  {
   "cell_type": "code",
   "execution_count": null,
   "metadata": {
    "deletable": false,
    "editable": false,
    "nbgrader": {
     "cell_type": "code",
     "checksum": "afa828bf4e48018a84cc59a66efa535f",
     "grade": false,
     "grade_id": "cell-8ee77f3e0c67051b",
     "locked": true,
     "schema_version": 3,
     "solution": false,
     "task": false
    }
   },
   "outputs": [],
   "source": [
    "def stream_power(min_elevation = 0.0, max_elevation = 1500.0, profile_length = 100000.0,\n",
    "                 dx = 1000.0, topo_option = 1, simulation_time = 2000000.0, dt = 2.0,\n",
    "                 nplots = 5, K = 1.6E-8, m = 1.0, n = 2.0, ka = 6.69, h = 1.69):\n",
    "    \"\"\"Calculate evolution of a river profile with stream-power erosion.\n",
    "\n",
    "    Keyword arguments:\n",
    "    min_elevation -- minimum elevation for initial topography (units: m; default: 0.0)\n",
    "    max_elevation -- maximum elevation for initial topography (units: m; default: 1500.0)\n",
    "    profile_length -- length of river profile (units: m; default: 100000.0)\n",
    "    dx -- spacing of points along river profile (units: m; default: 1000.0)\n",
    "    topo_option -- initial topography: 1 = flat, 2 = plateau, 3 = constant slope\n",
    "                   (default: 1)\n",
    "    simulation_time -- total simulation time (units: a; default: 2000000.0)\n",
    "    dt -- time step size for profile calculations (units: a; default: 2.0)\n",
    "    nplots -- number of plots to display (default: 5)\n",
    "    K -- fluvial erosional efficiency factor (units: m**0.33 / a; default: 1.6E-8)\n",
    "    m -- stream power area exponent (default: 1.0)\n",
    "    n -- stream power slope exponent (default: 2.0)\n",
    "    h -- area scaling exponent (default: 1.69)\n",
    "    ka -- distance/area scaling coefficient (units: m**0.33; default: 6.69)\n",
    "    \"\"\"\n",
    "\n",
    "    # Define arrays needed for river profile calculations\n",
    "    x = create_x(profile_length, dx)                        # x points for profile calcuations\n",
    "    dhdt = np.zeros(len(x))                                 # erosion rate array with same size as x\n",
    "    elev = create_profile(topo_option, x,                   # channel profile elevation\n",
    "                          min_elevation, max_elevation)\n",
    "    \n",
    "    # Calculate drainage basin area as a function of distance from divide x\n",
    "    area = drainage_area(x)\n",
    "    \n",
    "    # Define rock uplift rate and pattern\n",
    "    uplift_rate = 0.001                             # Rock uplift rate [m/a]\n",
    "    uplift = np.zeros(len(x)) + uplift_rate         # Create rock uplift array with constant uplift rate\n",
    "    \n",
    "    # Create dataframe(s) we need\n",
    "    profile = pd.DataFrame(index=x, data={'Initial profile':elev})\n",
    "\n",
    "    # Calculate plot display time interval\n",
    "    dt_plot = simulation_time / nplots\n",
    "    \n",
    "    # Loop over simulation time and calculate river profile elevations\n",
    "    time = 0.0                                           # Initialize time\n",
    "    for step in range(int(simulation_time/dt)):          # Loop over amount of time between plots\n",
    "        dhdt = calculate_dhdt(elev, dx, area, K, m, n)   # Calculate updated erosion rates\n",
    "        outlet_elev = elev[-1]                           # Store the elevation of the river outlet\n",
    "        elev += (dhdt + uplift) * dt                     # Update elevation based on uplift and river erosion\n",
    "        elev[elev < 0.0] = 0.0                           # Set any elevation values below zero to 0.0\n",
    "        elev[-1] = outlet_elev                           # Reset the river outlet elevation\n",
    "        time += dt                                       # Increment time\n",
    "\n",
    "        # If a profile should be plotted at this time, make a new column in the\n",
    "        # DataFrame(s) to store the profile data at this time\n",
    "        #\n",
    "        if time % dt_plot == 0:             # Check whether the current time is an increment of dt_plot\n",
    "            string=str(time)+' years'       # Create a variable with the current time\n",
    "            profile[string] = elev          # Create a new DataFrame column with the current time name\n",
    "    \n",
    "    # Plot the results using pandas_bokeh\n",
    "    ax = profile.plot_bokeh(kind='line',\n",
    "                            xlim=(0, profile_length),\n",
    "                            xlabel='Distance from drainage divide (m)',\n",
    "                            ylabel='River channel elevation (m)',\n",
    "                            title='River channel profile evolution model',\n",
    "                            legend = 'bottom_left',\n",
    "                            xticks=np.linspace(0.0, profile_length, 6),\n",
    "                            figsize=(800,600))"
   ]
  },
  {
   "cell_type": "markdown",
   "metadata": {
    "deletable": false,
    "editable": false,
    "nbgrader": {
     "cell_type": "markdown",
     "checksum": "f3467852fa7b0e5b11ec2ac8c6e0f794",
     "grade": false,
     "grade_id": "cell-1674b9b1e7165d16",
     "locked": true,
     "schema_version": 3,
     "solution": false
    }
   },
   "source": [
    "## Part 4: Questions for this problem (*1 point*)\n",
    "\n",
    "1. Were you able to understand how the different functions used in this problem work?\n",
    "Which ones were the most challenging to understand?\n",
    "Why?\n",
    "2. Does it make sense why functions are used in longer programs like this one?\n",
    "Do you find dividing the code into functions a useful thing to do?\n",
    "If so, why?\n",
    "If not, why not?"
   ]
  },
  {
   "cell_type": "markdown",
   "metadata": {
    "deletable": false,
    "nbgrader": {
     "cell_type": "markdown",
     "checksum": "925c0ef444e92624925c57efbf998a88",
     "grade": true,
     "grade_id": "problem_1_mg_p4_questions",
     "locked": false,
     "points": 1,
     "schema_version": 3,
     "solution": true
    }
   },
   "source": [
    "YOUR ANSWER HERE"
   ]
  },
  {
   "cell_type": "markdown",
   "metadata": {
    "deletable": false,
    "editable": false,
    "nbgrader": {
     "cell_type": "markdown",
     "checksum": "785a00b2324ed174c590235a6364987b",
     "grade": false,
     "grade_id": "cell-661711c1ad71a51f",
     "locked": true,
     "schema_version": 3,
     "solution": false
    }
   },
   "source": [
    "# Problem 2: River profile evolution (*17 points*)\n",
    "\n",
    "Now that you have a sense of how the code should work and all of the necessary functions, we can begin exploring stream-power erosion. The `stream_power` function simulates river incision into a 100-km-wide landscape with an initial flat surface elevation of 1 m. River incision is calculated using the stream-power erosion equations described in the [lecture slides for this week](https://introqg.github.io/site/_static/slides/L4/Advection.pdf).\n",
    "\n",
    "**Notice**: Closely follow the instructions! For example, you should be sure to use **exactly** the same variable names mentioned in the instructions because your answers will be automatically graded, and the tests that grade your answers rely on following the same formatting or variable naming as in the instructions.\n",
    "\n",
    "**Your score on this problem will be based on following criteria**:\n",
    "\n",
    "- Creating a Python function for calculating drainage area\n",
    "- Creating a Python function for the stream-power erosion equation\n",
    "- Answering a few questions about these functions and others defined in this problem\n",
    "- Including comments that explain what most lines in the code do\n",
    "- Uploading your notebook to your GitHub repository for this week's exercise"
   ]
  },
  {
   "cell_type": "markdown",
   "metadata": {
    "deletable": false,
    "editable": false,
    "nbgrader": {
     "cell_type": "markdown",
     "checksum": "906f96e072dcae042a9b7e2f32fe598c",
     "grade": false,
     "grade_id": "cell-f7a6fead4284c271",
     "locked": true,
     "schema_version": 3,
     "solution": false
    }
   },
   "source": [
    "## Part 1: River erosion, visualized (*3.5 points*)\n",
    "\n",
    "You first task in this problem is simply to run the `stream_power` function and have a look at its output. The program could take about 1 minute to run. When looking at the results, you may find it helpful to click on some of the river profile labels in the legend in order to show/hide them.\n",
    "\n",
    "- Run the `stream_power` function in the cell below with no function parameters given\n",
    "- Look at the resulting plot of the river channel profile\n",
    "- Add a descriptive figure caption as if it was in a scientific journal in the cell below the plot\n",
    "- Answer a few questions about the river profile model"
   ]
  },
  {
   "cell_type": "code",
   "execution_count": null,
   "metadata": {
    "deletable": false,
    "nbgrader": {
     "cell_type": "code",
     "checksum": "391fb8e2a504ebada76f3768b93887df",
     "grade": true,
     "grade_id": "problem_2_mg_p1_profile",
     "locked": false,
     "points": 1,
     "schema_version": 3,
     "solution": true
    }
   },
   "outputs": [],
   "source": [
    "# YOUR CODE HERE\n",
    "raise NotImplementedError()"
   ]
  },
  {
   "cell_type": "markdown",
   "metadata": {
    "deletable": false,
    "nbgrader": {
     "cell_type": "markdown",
     "checksum": "9a228e57200a02f5f6120d9348a6697a",
     "grade": true,
     "grade_id": "problem_2_mg_p1_profile_caption",
     "locked": false,
     "points": 0.5,
     "schema_version": 3,
     "solution": true
    }
   },
   "source": [
    "YOUR ANSWER HERE"
   ]
  },
  {
   "cell_type": "markdown",
   "metadata": {
    "deletable": false,
    "editable": false,
    "nbgrader": {
     "cell_type": "markdown",
     "checksum": "e9c014b084799f13d8f90046d256db38",
     "grade": false,
     "grade_id": "cell-d716ba5508b49ac9",
     "locked": true,
     "schema_version": 3,
     "solution": false
    }
   },
   "source": [
    "### Questions for Problem 2, Part 1 (*2 points*)\n",
    "\n",
    "Look again through the Python code from Problem 1 and the plot it produces, and answer the following questions.\n",
    "\n",
    "1. What is the rock uplift rate in the model? Is it constant or does it vary with space in the model?\n",
    "2. What is the maximum elevation of the channel profile at the end of the simulation? Is this higher or lower than the original maximum elevation? Why?\n",
    "3. Does the maximum elevation continually increase with time, or does it also decrease? Does the river profile appear to reach a steady state?\n",
    "4. How fast (at what velocity) does the drainage divide (highest point in the topography) migrate across the model? To calculate this value, you should run the model several times for shorter simulation times, note the position of the divide at the completion of the simulation and then calculate the velocity (distance travelled divided by time). You can change the simulation time by providing the `simulation_time` parameter when you call the `stream_power` function. For example, `stream_power(simulation_time=10000.0)` would run the model for 10000 years."
   ]
  },
  {
   "cell_type": "markdown",
   "metadata": {
    "deletable": false,
    "nbgrader": {
     "cell_type": "markdown",
     "checksum": "e9d3bb40e11c5c76ee0061f0d97782f9",
     "grade": true,
     "grade_id": "problem_2_mg_p1_questions",
     "locked": false,
     "points": 2,
     "schema_version": 3,
     "solution": true
    }
   },
   "source": [
    "YOUR ANSWER HERE"
   ]
  },
  {
   "cell_type": "markdown",
   "metadata": {
    "deletable": false,
    "editable": false,
    "nbgrader": {
     "cell_type": "markdown",
     "checksum": "7b749d14937eea8473d95bf639fe2c41",
     "grade": false,
     "grade_id": "cell-05156f21c4230418",
     "locked": true,
     "schema_version": 3,
     "solution": false
    }
   },
   "source": [
    "## Part 2: Subplots and erosion rates (*3.5 points*)\n",
    "\n",
    "The code in this exercise calculates erosion rates across the length of the channel as a function of time in order to update the channel profile elevation at the end of each time step. Currently, the program plots only the profile elevations. For this part of the exercise, your goal is to plot both the elevations and erosion rates on separate plots. This can be done using the `pandas_bokeh.plot_grid()` function to add a second plot beneath the existing plot.\n",
    "Currently, the first plot is created in the Python script using the commands\n",
    "\n",
    "```python\n",
    "ax = profile.plot_bokeh(kind='line',\n",
    "                        xlim=(0, profile_length),\n",
    "                        xlabel='Distance from drainage divide (m)',\n",
    "                        ylabel='River channel elevation (m)',\n",
    "                        title='River channel profile evolution model',\n",
    "                        legend = 'bottom_left',\n",
    "                        xticks=np.linspace(0.0, profile_length, 6),\n",
    "                        figsize=(800,600))\n",
    "```\n",
    "\n",
    "This is slightly different than past plots since we're using [Pandas-Bokeh](https://github.com/PatrikHlobil/Pandas-Bokeh). In order to have two plots in a single figure we will need to use the `pandas_bokeh.plot_grid()` function, which allows us to have several plots in one figure. An example of the syntax for the `pandas_bokeh.plot_grid()` function is below:\n",
    "\n",
    "```python\n",
    "pandas_bokeh.plot_grid([[axes1], [axes2]], plot_width=800, plot_height=300)\n",
    "```\n",
    "\n",
    "This would produce a set of 2 plots on one figure, with the plot data from `axes1` displayed above the data from `axes2` (as in the example figure below). Note that there are several sets of brackets used. `plot_width` is the width of each plot in pixels and `plot_height` is the height of each plot.\n",
    "\n",
    "![Subplot example](img/subplot_example_100ka.png)<br/>\n",
    "*Figure 1. An example of using the `pandas_bokeh.plot_grid()` function. Your plot should look something like this.*\n",
    "\n",
    "- Copy the `stream_power()` function from Problem 1 to the cell below\n",
    "- Modify the copied function to have 2 subplots\n",
    "    - First, create a second DataFrame called `erate` that can be used to store the erosion rates over time, and modify the code to ensure the erosion rate values are stored in the new DataFrame\n",
    "        - **Note**: The erosion rate values should be positive and in units of **mm/a** in the new DataFrame\n",
    "    - Then, add the code needed to generate a second plot below the first one that shows the erosion rate across the river profile\n",
    "        - **Note**: In order to prevent the individual plots from being displayed separately (in addition to being together in one figure) you can use the `show_figure` parameter, described in the [Pandas-Bokeh documentation](https://github.com/PatrikHlobil/Pandas-Bokeh#output-options)\n",
    "    - Be sure to update/add the axis labels\n",
    "    - It will likely be helpful to have a look at the [hints for this week's exercise](https://introqg.github.io/site/lessons/L4/exercise-4.html) for this part.\n",
    "- Run the test cell below the functions to produce a plot like the one above\n",
    "- Add a descriptive figure caption as if it was in a scientific journal in the cell below the plot"
   ]
  },
  {
   "cell_type": "code",
   "execution_count": null,
   "metadata": {
    "deletable": false,
    "nbgrader": {
     "cell_type": "code",
     "checksum": "36716dca6adac25c3ff5bdde359b51ac",
     "grade": true,
     "grade_id": "problem_2_mg_p2_stream_power",
     "locked": false,
     "points": 2,
     "schema_version": 3,
     "solution": true
    }
   },
   "outputs": [],
   "source": [
    "# Copy the stream_power function from Problem 1, paste it below, and edit for this problem\n",
    "\n",
    "def stream_power(min_elevation = 0.0, max_elevation = 1500.0, profile_length = 100000.0,\n",
    "                 dx = 1000.0, topo_option = 1, simulation_time = 2000000.0, dt = 2.0,\n",
    "                 nplots = 5, K = 1.6E-8, m = 1.0, n = 2.0, ka = 6.69, h = 1.69):\n",
    "    \"\"\"Calculate evolution of a river profile with stream-power erosion.\n",
    "\n",
    "    Keyword arguments:\n",
    "    min_elevation -- minimum elevation for initial topography (units: m; default: 0.0)\n",
    "    max_elevation -- maximum elevation for initial topography (units: m; default: 1500.0)\n",
    "    profile_length -- length of river profile (units: m; default: 100000.0)\n",
    "    dx -- spacing of points along river profile (units: m; default: 1000.0)\n",
    "    topo_option -- initial topography: 1 = flat, 2 = plateau, 3 = constant slope\n",
    "                   (default: 1)\n",
    "    simulation_time -- total simulation time (units: a; default: 2000000.0)\n",
    "    dt -- time step size for profile calculations (units: a; default: 2.0)\n",
    "    nplots -- number of plots to display (default: 5)\n",
    "    K -- fluvial erosional efficiency factor (units: m**0.33 / a; default: 1.6E-8)\n",
    "    m -- stream power area exponent (default: 1.0)\n",
    "    n -- stream power slope exponent (default: 2.0)\n",
    "    h -- area scaling exponent (default: 1.69)\n",
    "    ka -- distance/area scaling coefficient (units: m**0.33; default: 6.69)\n",
    "    \"\"\"\n",
    "# YOUR CODE HERE\n",
    "raise NotImplementedError()"
   ]
  },
  {
   "cell_type": "code",
   "execution_count": null,
   "metadata": {
    "deletable": false,
    "nbgrader": {
     "cell_type": "code",
     "checksum": "9d0028879320876eba8b9dec816f9dcb",
     "grade": true,
     "grade_id": "problem_2_mg_p2_subplot",
     "locked": false,
     "points": 1,
     "schema_version": 3,
     "solution": true
    }
   },
   "outputs": [],
   "source": [
    "# YOUR CODE HERE\n",
    "raise NotImplementedError()"
   ]
  },
  {
   "cell_type": "markdown",
   "metadata": {
    "deletable": false,
    "nbgrader": {
     "cell_type": "markdown",
     "checksum": "5e4e966a75ac488db2a2bc0c80b716ed",
     "grade": true,
     "grade_id": "problem_2_mg_p2_subplot_caption",
     "locked": false,
     "points": 0.5,
     "schema_version": 3,
     "solution": true
    }
   },
   "source": [
    "YOUR ANSWER HERE"
   ]
  },
  {
   "cell_type": "markdown",
   "metadata": {
    "deletable": false,
    "editable": false,
    "nbgrader": {
     "cell_type": "markdown",
     "checksum": "342d43d39d192e7c38caf66fe29b46bf",
     "grade": false,
     "grade_id": "cell-7e7f05a78759f24b",
     "locked": true,
     "schema_version": 3,
     "solution": false,
     "task": false
    }
   },
   "source": [
    "## Part 3: Exploring the initial topography (*6 points*)\n",
    "\n",
    "Your next task in this week's exercise is to explore the effect of the initial topography on the evolution of the river profile and erosion rates. This will hopefully give you a better sense of how the stream-power erosion equation works.\n",
    "\n",
    "- Run the `stream_power` equation for each of the 3 initial topography options using the Python cells below\n",
    "    - Run each model for 2 million years\n",
    "- Below each Python cell, add a descriptive figure caption as if it was in a scientific journal in the cell below the plot\n",
    "- Answer the questions below the plots"
   ]
  },
  {
   "cell_type": "code",
   "execution_count": null,
   "metadata": {
    "deletable": false,
    "nbgrader": {
     "cell_type": "code",
     "checksum": "e005eff13f45cef2616aa5406a65fadb",
     "grade": true,
     "grade_id": "problem_2_mg_p3_topo1",
     "locked": false,
     "points": 0.5,
     "schema_version": 3,
     "solution": true
    }
   },
   "outputs": [],
   "source": [
    "# Initial topography option 1 goes here\n",
    "\n",
    "# YOUR CODE HERE\n",
    "raise NotImplementedError()"
   ]
  },
  {
   "cell_type": "markdown",
   "metadata": {
    "deletable": false,
    "nbgrader": {
     "cell_type": "markdown",
     "checksum": "ad1ff447a28a11068aaa0a53f1ab55d4",
     "grade": true,
     "grade_id": "problem_2_mg_p3_topo1_caption",
     "locked": false,
     "points": 0.5,
     "schema_version": 3,
     "solution": true
    }
   },
   "source": [
    "YOUR ANSWER HERE"
   ]
  },
  {
   "cell_type": "code",
   "execution_count": null,
   "metadata": {
    "deletable": false,
    "nbgrader": {
     "cell_type": "code",
     "checksum": "b9b5dd2ce05709a620e145183769cdbf",
     "grade": true,
     "grade_id": "problem_2_mg_p3_topo2",
     "locked": false,
     "points": 0.5,
     "schema_version": 3,
     "solution": true
    }
   },
   "outputs": [],
   "source": [
    "# Initial topography option 2 goes here\n",
    "\n",
    "# YOUR CODE HERE\n",
    "raise NotImplementedError()"
   ]
  },
  {
   "cell_type": "markdown",
   "metadata": {
    "deletable": false,
    "nbgrader": {
     "cell_type": "markdown",
     "checksum": "2a1d900d36c5cfe36ab67fb7e6012a20",
     "grade": true,
     "grade_id": "problem_2_mg_p3_topo2_caption",
     "locked": false,
     "points": 0.5,
     "schema_version": 3,
     "solution": true
    }
   },
   "source": [
    "YOUR ANSWER HERE"
   ]
  },
  {
   "cell_type": "code",
   "execution_count": null,
   "metadata": {
    "deletable": false,
    "nbgrader": {
     "cell_type": "code",
     "checksum": "4d3c04eaad4b76e049a708ae08cafb08",
     "grade": true,
     "grade_id": "problem_2_mg_p3_topo3",
     "locked": false,
     "points": 0.5,
     "schema_version": 3,
     "solution": true
    }
   },
   "outputs": [],
   "source": [
    "# Initial topography option 3 goes here\n",
    "\n",
    "# YOUR CODE HERE\n",
    "raise NotImplementedError()"
   ]
  },
  {
   "cell_type": "markdown",
   "metadata": {
    "deletable": false,
    "nbgrader": {
     "cell_type": "markdown",
     "checksum": "d820b514594fcde98bc93530e18cab59",
     "grade": true,
     "grade_id": "problem_2_mg_p3_topo3_caption",
     "locked": false,
     "points": 0.5,
     "schema_version": 3,
     "solution": true
    }
   },
   "source": [
    "YOUR ANSWER HERE"
   ]
  },
  {
   "cell_type": "markdown",
   "metadata": {
    "deletable": false,
    "editable": false,
    "nbgrader": {
     "cell_type": "markdown",
     "checksum": "14890d6cf590e873ada67cf342b66b50",
     "grade": false,
     "grade_id": "cell-668e37e61ecc55b3",
     "locked": true,
     "schema_version": 3,
     "solution": false
    }
   },
   "source": [
    "### Questions for Problem 2, Part 3 (3 points):\n",
    "\n",
    "Comparing the three different inintial topography options, please answer the following questions:\n",
    "\n",
    "1. What is the starting shape of each of the initial topography options? How do they differ from one another?\n",
    "2. What are the fastest erosion rates you see in any of the profiles? Which model produces the fastest erosion rates? Why do you think that might be?\n",
    "3. Do the fastest erosion rates always occur in the same place, or does the location of fastest erosion change? Explain why this occurs, based on the equations for stream-power erosion presented in this week's lesson.\n",
    "4. How fast does the drainage divide migrate across the model in each case? Why do you think the rates differ?\n",
    "5. Look at the erosion rates across the profiles. Are the majority of the erosion rates greater than, less than or equal to the rock uplift rate? Based on this answer, is the topography in a steady state (i.e., not changing)?"
   ]
  },
  {
   "cell_type": "markdown",
   "metadata": {
    "deletable": false,
    "nbgrader": {
     "cell_type": "markdown",
     "checksum": "8a8e16e60076c7346a869decc2268b5a",
     "grade": true,
     "grade_id": "problem_2_mg_p3_questions2",
     "locked": false,
     "points": 3,
     "schema_version": 3,
     "solution": true
    }
   },
   "source": [
    "YOUR ANSWER HERE"
   ]
  },
  {
   "cell_type": "markdown",
   "metadata": {
    "deletable": false,
    "editable": false,
    "nbgrader": {
     "cell_type": "markdown",
     "checksum": "ce60d1ed96e6c02ac4812747221e4fb9",
     "grade": false,
     "grade_id": "cell-6a665ffdc0faecbf",
     "locked": true,
     "schema_version": 3,
     "solution": false,
     "task": false
    }
   },
   "source": [
    "## Part 4 - Non-uniform channel uplift (*4 points*)\n",
    "\n",
    "Currently, the program uses a constant rock uplift rate across the river profile. Now we will explore the effects of differences in uplift velocity along the channel profile. This is equivalent to placing an active fault along the river profile. \n",
    "\n",
    "- Copy the `stream_power` function from above in Problem 2\n",
    "- Modify it to have a rock uplift rate of 5 mm/a when x ≤ 50 km, and an uplift rate of 1 mm/a when x > 50 km\n",
    "- Run your modified `stream_power` function in the Python cell below with the default parameter values\n",
    "- Add a descriptive figure caption of the plot the function produces as if it was in a scientific journal in the cell below the plot\n",
    "- Answer the questions below the plots"
   ]
  },
  {
   "cell_type": "code",
   "execution_count": null,
   "metadata": {
    "deletable": false,
    "nbgrader": {
     "cell_type": "code",
     "checksum": "89e839b50509964c671d47cdcb5b4799",
     "grade": true,
     "grade_id": "problem_2_mg_p4_code",
     "locked": false,
     "points": 2,
     "schema_version": 3,
     "solution": true,
     "task": false
    }
   },
   "outputs": [],
   "source": [
    "# Copy the stream_power function from earlier in Problem 2, paste it below, and edit for this problem\n",
    "\n",
    "def stream_power(min_elevation = 0.0, max_elevation = 1500.0, profile_length = 100000.0,\n",
    "                 dx = 1000.0, topo_option = 1, simulation_time = 2000000.0, dt = 2.0,\n",
    "                 nplots = 5, K = 1.6E-8, m = 1.0, n = 2.0, ka = 6.69, h = 1.69):\n",
    "    \"\"\"Calculate evolution of a river profile with stream-power erosion.\n",
    "\n",
    "    Keyword arguments:\n",
    "    min_elevation -- minimum elevation for initial topography (units: m; default: 0.0)\n",
    "    max_elevation -- maximum elevation for initial topography (units: m; default: 1500.0)\n",
    "    profile_length -- length of river profile (units: m; default: 100000.0)\n",
    "    dx -- spacing of points along river profile (units: m; default: 1000.0)\n",
    "    topo_option -- initial topography: 1 = flat, 2 = plateau, 3 = constant slope\n",
    "                   (default: 1)\n",
    "    simulation_time -- total simulation time (units: a; default: 2000000.0)\n",
    "    dt -- time step size for profile calculations (units: a; default: 2.0)\n",
    "    nplots -- number of plots to display (default: 5)\n",
    "    K -- fluvial erosional efficiency factor (units: m**0.33 / a; default: 1.6E-8)\n",
    "    m -- stream power area exponent (default: 1.0)\n",
    "    n -- stream power slope exponent (default: 2.0)\n",
    "    h -- area scaling exponent (default: 1.69)\n",
    "    ka -- distance/area scaling coefficient (units: m**0.33; default: 6.69)\n",
    "    \"\"\"\n",
    "# YOUR CODE HERE\n",
    "raise NotImplementedError()"
   ]
  },
  {
   "cell_type": "code",
   "execution_count": null,
   "metadata": {
    "deletable": false,
    "nbgrader": {
     "cell_type": "code",
     "checksum": "bfdb339d8a56e5fb0b1ed67bbaf9e6b7",
     "grade": true,
     "grade_id": "problem_2_mg_p4_uplift",
     "locked": false,
     "points": 0.5,
     "schema_version": 3,
     "solution": true,
     "task": false
    }
   },
   "outputs": [],
   "source": [
    "# YOUR CODE HERE\n",
    "raise NotImplementedError()"
   ]
  },
  {
   "cell_type": "markdown",
   "metadata": {
    "deletable": false,
    "nbgrader": {
     "cell_type": "markdown",
     "checksum": "cbcc25871bb467bde60701f3fad66e1d",
     "grade": true,
     "grade_id": "cell-6c99c9dproblem_2_mg_p4_uplift_caption",
     "locked": false,
     "points": 0.5,
     "schema_version": 3,
     "solution": true,
     "task": false
    }
   },
   "source": [
    "YOUR ANSWER HERE"
   ]
  },
  {
   "cell_type": "markdown",
   "metadata": {
    "deletable": false,
    "editable": false,
    "nbgrader": {
     "cell_type": "markdown",
     "checksum": "8ad177113fa3afd7442cdf238d35740d",
     "grade": false,
     "grade_id": "cell-697e72e6f967dde9",
     "locked": true,
     "schema_version": 3,
     "solution": false,
     "task": false
    }
   },
   "source": [
    "### Questions for Problem 2, Part 4 (*1 point*)\n",
    "\n",
    "Looking at your plot above, please answer the following questions:\n",
    "\n",
    "1. Is the maximum topography higher or lower in this simulation compared to that in earlier parts of this problem?\n",
    "2. Does the river profile after 2 million years clearly show where the change in uplift rate occurs? Why might this be an issue in natural rivers?"
   ]
  },
  {
   "cell_type": "markdown",
   "metadata": {
    "deletable": false,
    "nbgrader": {
     "cell_type": "markdown",
     "checksum": "6937f4b8e758cc06bda75e06fd7132be",
     "grade": true,
     "grade_id": "problem_2_mg_p4_questions",
     "locked": false,
     "points": 1,
     "schema_version": 3,
     "solution": true,
     "task": false
    }
   },
   "source": [
    "YOUR ANSWER HERE"
   ]
  }
 ],
 "metadata": {
  "kernelspec": {
   "display_name": "Python 3",
   "language": "python",
   "name": "python3"
  },
  "language_info": {
   "codemirror_mode": {
    "name": "ipython",
    "version": 3
   },
   "file_extension": ".py",
   "mimetype": "text/x-python",
   "name": "python",
   "nbconvert_exporter": "python",
   "pygments_lexer": "ipython3",
   "version": "3.7.4"
  }
 },
 "nbformat": 4,
 "nbformat_minor": 2
}
